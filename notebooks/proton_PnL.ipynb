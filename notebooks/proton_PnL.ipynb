{
 "cells": [
  {
   "cell_type": "code",
   "execution_count": 2,
   "metadata": {},
   "outputs": [],
   "source": [
    "import sys\n",
    "import os\n",
    "sys.path.append(os.path.abspath(\"..\"))\n",
    "from eddie_tools.record import RedisFillLoader"
   ]
  },
  {
   "cell_type": "code",
   "execution_count": 12,
   "metadata": {},
   "outputs": [],
   "source": [
    "contracts = RedisFillLoader('2025,6,1','2025,6,3','capital_proton_snf')"
   ]
  },
  {
   "cell_type": "code",
   "execution_count": 13,
   "metadata": {},
   "outputs": [
    {
     "name": "stderr",
     "output_type": "stream",
     "text": [
      "Concatenating fills: 100%|██████████| 3/3 [00:00<00:00, 18.07it/s]\n"
     ]
    },
    {
     "data": {
      "application/vnd.microsoft.datawrangler.viewer.v0+json": {
       "columns": [
        {
         "name": "index",
         "rawType": "int64",
         "type": "integer"
        },
        {
         "name": "time",
         "rawType": "datetime64[ns]",
         "type": "datetime"
        },
        {
         "name": "ts",
         "rawType": "int64",
         "type": "integer"
        },
        {
         "name": "instr",
         "rawType": "object",
         "type": "string"
        },
        {
         "name": "oflag",
         "rawType": "int64",
         "type": "integer"
        },
        {
         "name": "tid",
         "rawType": "object",
         "type": "string"
        },
        {
         "name": "px",
         "rawType": "float64",
         "type": "float"
        },
        {
         "name": "alqortake",
         "rawType": "object",
         "type": "string"
        },
        {
         "name": "sz",
         "rawType": "int64",
         "type": "integer"
        },
        {
         "name": "theo",
         "rawType": "float64",
         "type": "float"
        },
        {
         "name": "fwd",
         "rawType": "float64",
         "type": "float"
        },
        {
         "name": "ffwd",
         "rawType": "float64",
         "type": "float"
        },
        {
         "name": "edge",
         "rawType": "int64",
         "type": "integer"
        },
        {
         "name": "roll_offset",
         "rawType": "int64",
         "type": "integer"
        },
        {
         "name": "label",
         "rawType": "object",
         "type": "string"
        },
        {
         "name": "delta",
         "rawType": "int64",
         "type": "integer"
        },
        {
         "name": "vega",
         "rawType": "int64",
         "type": "integer"
        },
        {
         "name": "gamma",
         "rawType": "int64",
         "type": "integer"
        },
        {
         "name": "theta",
         "rawType": "int64",
         "type": "integer"
        },
        {
         "name": "vol",
         "rawType": "int64",
         "type": "integer"
        },
        {
         "name": "mult",
         "rawType": "int64",
         "type": "integer"
        },
        {
         "name": "latefill",
         "rawType": "bool",
         "type": "boolean"
        },
        {
         "name": "fee",
         "rawType": "float64",
         "type": "float"
        },
        {
         "name": "qm",
         "rawType": "int64",
         "type": "integer"
        },
        {
         "name": "pfdelta",
         "rawType": "int64",
         "type": "integer"
        },
        {
         "name": "otags",
         "rawType": "object",
         "type": "string"
        },
        {
         "name": "seq",
         "rawType": "int64",
         "type": "integer"
        }
       ],
       "ref": "efdc11fd-4aef-4947-8c39-cd44391edf4b",
       "rows": [
        [
         "0",
         "2025-06-03 09:06:01.030079",
         "1748912761030079",
         "FUT_TAIFEX_SNF:202507",
         "2097152",
         "TAIFEX240#8772",
         "17.01",
         "take",
         "5",
         "17.08",
         "17.08",
         "17.095",
         "0",
         "0",
         "",
         "1",
         "0",
         "0",
         "0",
         "0",
         "10000",
         "False",
         "0.0008402",
         "0",
         "0",
         "0x60000",
         "1"
        ],
        [
         "1",
         "2025-06-03 09:15:45.610339",
         "1748913345610339",
         "FUT_TAIFEX_SNF:202507",
         "8192",
         "TAIFEX240#41623",
         "17.12",
         "take",
         "-1",
         "17.135",
         "17.135",
         "17.145",
         "0",
         "0",
         "manual",
         "1",
         "0",
         "0",
         "0",
         "0",
         "10000",
         "False",
         "0.0008424",
         "0",
         "0",
         "0x80000",
         "2"
        ],
        [
         "2",
         "2025-06-03 09:16:03.562046",
         "1748913363562046",
         "FUT_TAIFEX_SNF:202507",
         "8192",
         "TAIFEX240#42995",
         "17.12",
         "take",
         "-4",
         "17.13",
         "17.13",
         "17.14",
         "0",
         "0",
         "manual",
         "1",
         "0",
         "0",
         "0",
         "0",
         "10000",
         "False",
         "0.0008424",
         "0",
         "0",
         "0x80000",
         "3"
        ]
       ],
       "shape": {
        "columns": 26,
        "rows": 3
       }
      },
      "text/html": [
       "<div>\n",
       "<style scoped>\n",
       "    .dataframe tbody tr th:only-of-type {\n",
       "        vertical-align: middle;\n",
       "    }\n",
       "\n",
       "    .dataframe tbody tr th {\n",
       "        vertical-align: top;\n",
       "    }\n",
       "\n",
       "    .dataframe thead th {\n",
       "        text-align: right;\n",
       "    }\n",
       "</style>\n",
       "<table border=\"1\" class=\"dataframe\">\n",
       "  <thead>\n",
       "    <tr style=\"text-align: right;\">\n",
       "      <th></th>\n",
       "      <th>time</th>\n",
       "      <th>ts</th>\n",
       "      <th>instr</th>\n",
       "      <th>oflag</th>\n",
       "      <th>tid</th>\n",
       "      <th>px</th>\n",
       "      <th>alqortake</th>\n",
       "      <th>sz</th>\n",
       "      <th>theo</th>\n",
       "      <th>fwd</th>\n",
       "      <th>...</th>\n",
       "      <th>gamma</th>\n",
       "      <th>theta</th>\n",
       "      <th>vol</th>\n",
       "      <th>mult</th>\n",
       "      <th>latefill</th>\n",
       "      <th>fee</th>\n",
       "      <th>qm</th>\n",
       "      <th>pfdelta</th>\n",
       "      <th>otags</th>\n",
       "      <th>seq</th>\n",
       "    </tr>\n",
       "  </thead>\n",
       "  <tbody>\n",
       "    <tr>\n",
       "      <th>0</th>\n",
       "      <td>2025-06-03 09:06:01.030079</td>\n",
       "      <td>1748912761030079</td>\n",
       "      <td>FUT_TAIFEX_SNF:202507</td>\n",
       "      <td>2097152</td>\n",
       "      <td>TAIFEX240#8772</td>\n",
       "      <td>17.01</td>\n",
       "      <td>take</td>\n",
       "      <td>5</td>\n",
       "      <td>17.080</td>\n",
       "      <td>17.080</td>\n",
       "      <td>...</td>\n",
       "      <td>0</td>\n",
       "      <td>0</td>\n",
       "      <td>0</td>\n",
       "      <td>10000</td>\n",
       "      <td>False</td>\n",
       "      <td>0.000840</td>\n",
       "      <td>0</td>\n",
       "      <td>0</td>\n",
       "      <td>0x60000</td>\n",
       "      <td>1</td>\n",
       "    </tr>\n",
       "    <tr>\n",
       "      <th>1</th>\n",
       "      <td>2025-06-03 09:15:45.610339</td>\n",
       "      <td>1748913345610339</td>\n",
       "      <td>FUT_TAIFEX_SNF:202507</td>\n",
       "      <td>8192</td>\n",
       "      <td>TAIFEX240#41623</td>\n",
       "      <td>17.12</td>\n",
       "      <td>take</td>\n",
       "      <td>-1</td>\n",
       "      <td>17.135</td>\n",
       "      <td>17.135</td>\n",
       "      <td>...</td>\n",
       "      <td>0</td>\n",
       "      <td>0</td>\n",
       "      <td>0</td>\n",
       "      <td>10000</td>\n",
       "      <td>False</td>\n",
       "      <td>0.000842</td>\n",
       "      <td>0</td>\n",
       "      <td>0</td>\n",
       "      <td>0x80000</td>\n",
       "      <td>2</td>\n",
       "    </tr>\n",
       "    <tr>\n",
       "      <th>2</th>\n",
       "      <td>2025-06-03 09:16:03.562046</td>\n",
       "      <td>1748913363562046</td>\n",
       "      <td>FUT_TAIFEX_SNF:202507</td>\n",
       "      <td>8192</td>\n",
       "      <td>TAIFEX240#42995</td>\n",
       "      <td>17.12</td>\n",
       "      <td>take</td>\n",
       "      <td>-4</td>\n",
       "      <td>17.130</td>\n",
       "      <td>17.130</td>\n",
       "      <td>...</td>\n",
       "      <td>0</td>\n",
       "      <td>0</td>\n",
       "      <td>0</td>\n",
       "      <td>10000</td>\n",
       "      <td>False</td>\n",
       "      <td>0.000842</td>\n",
       "      <td>0</td>\n",
       "      <td>0</td>\n",
       "      <td>0x80000</td>\n",
       "      <td>3</td>\n",
       "    </tr>\n",
       "  </tbody>\n",
       "</table>\n",
       "<p>3 rows × 26 columns</p>\n",
       "</div>"
      ],
      "text/plain": [
       "                        time                ts                  instr  \\\n",
       "0 2025-06-03 09:06:01.030079  1748912761030079  FUT_TAIFEX_SNF:202507   \n",
       "1 2025-06-03 09:15:45.610339  1748913345610339  FUT_TAIFEX_SNF:202507   \n",
       "2 2025-06-03 09:16:03.562046  1748913363562046  FUT_TAIFEX_SNF:202507   \n",
       "\n",
       "     oflag              tid     px alqortake  sz    theo     fwd  ...  gamma  \\\n",
       "0  2097152   TAIFEX240#8772  17.01      take   5  17.080  17.080  ...      0   \n",
       "1     8192  TAIFEX240#41623  17.12      take  -1  17.135  17.135  ...      0   \n",
       "2     8192  TAIFEX240#42995  17.12      take  -4  17.130  17.130  ...      0   \n",
       "\n",
       "   theta  vol   mult  latefill       fee  qm  pfdelta    otags  seq  \n",
       "0      0    0  10000     False  0.000840   0        0  0x60000    1  \n",
       "1      0    0  10000     False  0.000842   0        0  0x80000    2  \n",
       "2      0    0  10000     False  0.000842   0        0  0x80000    3  \n",
       "\n",
       "[3 rows x 26 columns]"
      ]
     },
     "execution_count": 13,
     "metadata": {},
     "output_type": "execute_result"
    }
   ],
   "source": [
    "contracts.load_concat_df()"
   ]
  },
  {
   "cell_type": "code",
   "execution_count": 14,
   "metadata": {},
   "outputs": [
    {
     "name": "stdout",
     "output_type": "stream",
     "text": [
      "instr                    realized_pnl    net_position\n",
      "FUT_TAIFEX_SNF:202507            5500               0\n"
     ]
    }
   ],
   "source": [
    "contracts.print_pnl_summary()"
   ]
  },
  {
   "cell_type": "code",
   "execution_count": null,
   "metadata": {},
   "outputs": [],
   "source": []
  },
  {
   "cell_type": "code",
   "execution_count": null,
   "metadata": {},
   "outputs": [],
   "source": []
  }
 ],
 "metadata": {
  "kernelspec": {
   "display_name": "Python 3",
   "language": "python",
   "name": "python3"
  },
  "language_info": {
   "codemirror_mode": {
    "name": "ipython",
    "version": 3
   },
   "file_extension": ".py",
   "mimetype": "text/x-python",
   "name": "python",
   "nbconvert_exporter": "python",
   "pygments_lexer": "ipython3",
   "version": "3.10.12"
  }
 },
 "nbformat": 4,
 "nbformat_minor": 2
}
